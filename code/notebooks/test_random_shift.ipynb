{
 "cells": [
  {
   "cell_type": "code",
   "execution_count": 2,
   "id": "69c31f79-584d-4e82-bfa8-975d233f39ab",
   "metadata": {},
   "outputs": [],
   "source": [
    "import numpy as np\n",
    "import random\n",
    "import torch\n",
    "\n",
    "def random_intensity_scaling(data, scale_range=(0.8, 1.2)):\n",
    "    \"\"\"\n",
    "    Randomly scale the intensity of 3D data.\n",
    "\n",
    "    Parameters:\n",
    "        data (numpy.ndarray): The 3D data array to augment.\n",
    "        scale_range (tuple): The range of scaling factors (min, max).\n",
    "\n",
    "    Returns:\n",
    "        numpy.ndarray: The augmented 3D data with adjusted intensities.\n",
    "    \"\"\"\n",
    "    scale_factor = np.random.uniform(*scale_range)\n",
    "    return data * scale_factor\n",
    "\n",
    "def random_intensity_shift(data, shift_range=(-0.1, 0.1)):\n",
    "    \"\"\"\n",
    "    Randomly shift the intensity of 3D data.\n",
    "\n",
    "    Parameters:\n",
    "        data (numpy.ndarray): The 3D data array to augment.\n",
    "        shift_range (tuple): The range of intensity shifts (min, max).\n",
    "\n",
    "    Returns:\n",
    "        numpy.ndarray: The augmented 3D data with adjusted intensities.\n",
    "    \"\"\"\n",
    "    shift = np.random.uniform(*shift_range)\n",
    "    return data + shift\n",
    "\n",
    "class RandomIntensityTransform:\n",
    "    \"\"\"\n",
    "    Custom transform to adjust intensity for 16-bit 3D images with a probability.\n",
    "    \"\"\"\n",
    "    def __init__(self, scale_range=(0.8, 1.2), shift_range=(-1000, 1000), clip_range=(0, 65535), p=0.5):\n",
    "        \"\"\"\n",
    "        Parameters:\n",
    "            scale_range (tuple): Range for intensity scaling factors.\n",
    "            shift_range (tuple): Range for intensity shifts.\n",
    "            clip_range (tuple): Min and max values for clipping (e.g., 0-65535 for 16-bit).\n",
    "            p (float): Probability of applying the transformation.\n",
    "        \"\"\"\n",
    "        self.scale_range = scale_range\n",
    "        self.shift_range = shift_range\n",
    "        self.clip_range = clip_range\n",
    "        self.p = p\n",
    "\n",
    "    def __call__(self, tensor):\n",
    "        if random.random() < self.p:\n",
    "            scale_factor = random.uniform(*self.scale_range)\n",
    "            tensor = tensor * scale_factor\n",
    "            \n",
    "            shift = random.uniform(*self.shift_range)\n",
    "            tensor = tensor + shift\n",
    "            \n",
    "            tensor = torch.clamp(torch.from_numpy(tensor), min=self.clip_range[0], max=self.clip_range[1])\n",
    "        return tensor\n"
   ]
  },
  {
   "cell_type": "code",
   "execution_count": 3,
   "id": "ddd89a2d-b00c-4586-964b-e21ca6dc9208",
   "metadata": {},
   "outputs": [],
   "source": [
    "shift_range = 20\n",
    "transform = RandomIntensityTransform(\n",
    "    scale_range=(0.3, 2.5),\n",
    "    shift_range=(-shift_range, shift_range),\n",
    "    p=1.0\n",
    ")"
   ]
  },
  {
   "cell_type": "code",
   "execution_count": 4,
   "id": "d7aeb3be-4ecb-4ed0-8442-82064bb46d2c",
   "metadata": {},
   "outputs": [
    {
     "name": "stdout",
     "output_type": "stream",
     "text": [
      "(128, 128, 128) 0 232 3.734201431274414\n"
     ]
    }
   ],
   "source": [
    "from skimage import io\n",
    "import torchio as tio\n",
    "test_block_path = \"/scratch/dataset_patch_128_steps_64_clip_int/train/images/698928_image_block_154.tif\"\n",
    "block = io.imread(test_block_path)\n",
    "print(block.shape, block.min(), block.max(), np.mean(block))"
   ]
  },
  {
   "cell_type": "code",
   "execution_count": 6,
   "id": "4d04f132-71f3-4383-a8ed-b72c938ae272",
   "metadata": {},
   "outputs": [],
   "source": [
    "subject = tio.Subject(\n",
    "    image=tio.ScalarImage(tensor=np.expand_dims(block, axis=0))\n",
    ")"
   ]
  },
  {
   "cell_type": "code",
   "execution_count": 30,
   "id": "227162a5-fd0e-4b7a-aeca-e85f2543c2e4",
   "metadata": {},
   "outputs": [
    {
     "name": "stdout",
     "output_type": "stream",
     "text": [
      "(1, 128, 128, 128) <class 'numpy.ndarray'>\n"
     ]
    }
   ],
   "source": [
    "transform = tio.RandomGamma(log_gamma=(-0.2, 0.5), p=1.0)\n",
    "transformed = transform(subject).image.data.numpy()\n",
    "print(transformed.shape, type(transformed))\n",
    "np.save(\"/results/gamma_test.npy\", transformed)"
   ]
  },
  {
   "cell_type": "code",
   "execution_count": 24,
   "id": "5643d427-7015-4d71-81ee-98d679041cd6",
   "metadata": {},
   "outputs": [
    {
     "name": "stdout",
     "output_type": "stream",
     "text": [
      "(128, 128, 128) float64 <class 'numpy.ndarray'>\n",
      "(128, 128, 128) 6.859482220037663 358.24114665620954 12.515214609094297\n"
     ]
    }
   ],
   "source": [
    "new_block = transform(block)\n",
    "new_block = new_block.cpu().numpy()\n",
    "print(new_block.shape, new_block.dtype, type(new_block))\n",
    "print(new_block.shape, new_block.min(), new_block.max(), np.mean(new_block))\n",
    "\n",
    "np.save(\"/results/check_intensity.npy\", new_block)"
   ]
  },
  {
   "cell_type": "code",
   "execution_count": null,
   "id": "850de8f7-bcfc-4403-98cc-5ab48cfdb3fc",
   "metadata": {},
   "outputs": [],
   "source": []
  }
 ],
 "metadata": {
  "kernelspec": {
   "display_name": "Python 3 (ipykernel)",
   "language": "python",
   "name": "python3"
  },
  "language_info": {
   "codemirror_mode": {
    "name": "ipython",
    "version": 3
   },
   "file_extension": ".py",
   "mimetype": "text/x-python",
   "name": "python",
   "nbconvert_exporter": "python",
   "pygments_lexer": "ipython3",
   "version": "3.12.4"
  }
 },
 "nbformat": 4,
 "nbformat_minor": 5
}
